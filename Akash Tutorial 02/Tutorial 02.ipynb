{
 "cells": [
  {
   "cell_type": "markdown",
   "id": "917868da",
   "metadata": {},
   "source": [
    "# Introduction to NumPy"
   ]
  },
  {
   "cell_type": "code",
   "execution_count": 5,
   "id": "af9a4ce7",
   "metadata": {},
   "outputs": [
    {
     "name": "stdout",
     "output_type": "stream",
     "text": [
      "[4 3 2 1]\n",
      "[8 6 4 2]\n"
     ]
    }
   ],
   "source": [
    "import numpy as np  #importing numpy packages\n",
    "x=np.array([4,3,2,1]) \n",
    "y=2*x    #creating second row as y \n",
    "print(\"{}\\n{}\".format(x,y)) #printing x and y as first and second row"
   ]
  },
  {
   "cell_type": "code",
   "execution_count": null,
   "id": "e96078b3",
   "metadata": {},
   "outputs": [],
   "source": [
    "From Normal list"
   ]
  },
  {
   "cell_type": "code",
   "execution_count": 14,
   "id": "bf8becfb",
   "metadata": {},
   "outputs": [
    {
     "name": "stdout",
     "output_type": "stream",
     "text": [
      "[4, 3, 2, 1]\n",
      "[4, 3, 2, 1, 4, 3, 2, 1]\n"
     ]
    }
   ],
   "source": [
    "x=[4,3,2,1]\n",
    "y= 2*x\n",
    "print(\"{}\\n{}\".format(x,y))"
   ]
  },
  {
   "cell_type": "code",
   "execution_count": 15,
   "id": "682592ba",
   "metadata": {},
   "outputs": [
    {
     "name": "stdout",
     "output_type": "stream",
     "text": [
      "[ 4  5  6  7  8  9 10]\n"
     ]
    }
   ],
   "source": [
    "x = np.arange(0,100, 1) #range function\n",
    "print(x[[4,5,6,7,8,9,10]])"
   ]
  },
  {
   "cell_type": "code",
   "execution_count": 19,
   "id": "03fc898e",
   "metadata": {},
   "outputs": [
    {
     "ename": "TypeError",
     "evalue": "list indices must be integers or slices, not list",
     "output_type": "error",
     "traceback": [
      "\u001b[0;31m---------------------------------------------------------------------------\u001b[0m",
      "\u001b[0;31mTypeError\u001b[0m                                 Traceback (most recent call last)",
      "\u001b[0;32m/var/folders/42/_d51x_6560g55xrw0j6g16580000gn/T/ipykernel_39466/1833845753.py\u001b[0m in \u001b[0;36m<module>\u001b[0;34m\u001b[0m\n\u001b[1;32m      1\u001b[0m \u001b[0mx\u001b[0m \u001b[0;34m=\u001b[0m \u001b[0;34m[\u001b[0m\u001b[0;36m1\u001b[0m\u001b[0;34m,\u001b[0m\u001b[0;36m2\u001b[0m\u001b[0;34m,\u001b[0m\u001b[0;36m3\u001b[0m\u001b[0;34m,\u001b[0m\u001b[0;36m4\u001b[0m\u001b[0;34m,\u001b[0m\u001b[0;36m5\u001b[0m\u001b[0;34m,\u001b[0m\u001b[0;36m6\u001b[0m\u001b[0;34m,\u001b[0m\u001b[0;36m7\u001b[0m\u001b[0;34m,\u001b[0m\u001b[0;36m8\u001b[0m\u001b[0;34m,\u001b[0m\u001b[0;36m9\u001b[0m\u001b[0;34m,\u001b[0m\u001b[0;36m10\u001b[0m\u001b[0;34m]\u001b[0m\u001b[0;34m\u001b[0m\u001b[0;34m\u001b[0m\u001b[0m\n\u001b[0;32m----> 2\u001b[0;31m \u001b[0mprint\u001b[0m\u001b[0;34m(\u001b[0m\u001b[0mx\u001b[0m\u001b[0;34m[\u001b[0m\u001b[0;34m[\u001b[0m\u001b[0;36m0\u001b[0m\u001b[0;34m,\u001b[0m\u001b[0;36m1\u001b[0m\u001b[0;34m,\u001b[0m\u001b[0;36m2\u001b[0m\u001b[0;34m]\u001b[0m\u001b[0;34m]\u001b[0m\u001b[0;34m)\u001b[0m\u001b[0;34m\u001b[0m\u001b[0;34m\u001b[0m\u001b[0m\n\u001b[0m",
      "\u001b[0;31mTypeError\u001b[0m: list indices must be integers or slices, not list"
     ]
    }
   ],
   "source": [
    "x = [1,2,3,4,5,6,7,8,9,10]\n",
    "print(x[[0,1,2]])"
   ]
  },
  {
   "cell_type": "markdown",
   "id": "7b101c84",
   "metadata": {},
   "source": [
    "So we just remove list "
   ]
  },
  {
   "cell_type": "code",
   "execution_count": 29,
   "id": "ab8099dd",
   "metadata": {},
   "outputs": [
    {
     "name": "stdout",
     "output_type": "stream",
     "text": [
      "[1, 2, 3, 4, 5, 6, 7, 8, 9, 10]\n"
     ]
    }
   ],
   "source": [
    "x = [1,2,3,4,5,6,7,8,9,10]\n",
    "print([x[0],x[1],x[2],x[3],x[4],x[5],x[6],x[7],x[8],x[9]])"
   ]
  },
  {
   "cell_type": "code",
   "execution_count": 30,
   "id": "7ff6d9a4",
   "metadata": {},
   "outputs": [
    {
     "name": "stdout",
     "output_type": "stream",
     "text": [
      "[[1 2 3]\n",
      " [4 5 6]\n",
      " [7 8 9]]\n"
     ]
    }
   ],
   "source": [
    "x=np.array([[1,2,3],[4,5,6],[7,8,9]]) #array function\n",
    "print(x)"
   ]
  },
  {
   "cell_type": "code",
   "execution_count": 32,
   "id": "364f553c",
   "metadata": {},
   "outputs": [
    {
     "name": "stdout",
     "output_type": "stream",
     "text": [
      "2\n",
      "(3, 3)\n",
      "9\n"
     ]
    }
   ],
   "source": [
    "print(x.ndim) # number of dimensions\n",
    "print(x.shape) # Shape of array\n",
    "print(x.size) # Total number of elements"
   ]
  },
  {
   "cell_type": "code",
   "execution_count": 33,
   "id": "b6f32da8",
   "metadata": {},
   "outputs": [
    {
     "data": {
      "text/plain": [
       "array([[ 1,  4,  9],\n",
       "       [16, 25, 36],\n",
       "       [49, 64, 81]])"
      ]
     },
     "execution_count": 33,
     "metadata": {},
     "output_type": "execute_result"
    }
   ],
   "source": [
    "x*x"
   ]
  },
  {
   "cell_type": "code",
   "execution_count": 34,
   "id": "0b5eabb3",
   "metadata": {},
   "outputs": [
    {
     "data": {
      "text/plain": [
       "matrix([[ 30,  36,  42],\n",
       "        [ 66,  81,  96],\n",
       "        [102, 126, 150]])"
      ]
     },
     "execution_count": 34,
     "metadata": {},
     "output_type": "execute_result"
    }
   ],
   "source": [
    "np.matrix(x)*np.matrix(x)"
   ]
  },
  {
   "cell_type": "code",
   "execution_count": 35,
   "id": "ab078820",
   "metadata": {},
   "outputs": [
    {
     "data": {
      "text/plain": [
       "array([[ 30,  36,  42],\n",
       "       [ 66,  81,  96],\n",
       "       [102, 126, 150]])"
      ]
     },
     "execution_count": 35,
     "metadata": {},
     "output_type": "execute_result"
    }
   ],
   "source": [
    "np.dot(x,x)"
   ]
  },
  {
   "cell_type": "code",
   "execution_count": 36,
   "id": "c6b39f03",
   "metadata": {},
   "outputs": [
    {
     "data": {
      "text/plain": [
       "array([[False, False, False],\n",
       "       [False, False,  True],\n",
       "       [ True,  True,  True]])"
      ]
     },
     "execution_count": 36,
     "metadata": {},
     "output_type": "execute_result"
    }
   ],
   "source": [
    "x>5"
   ]
  },
  {
   "cell_type": "code",
   "execution_count": 37,
   "id": "ffb2aa02",
   "metadata": {},
   "outputs": [
    {
     "data": {
      "text/plain": [
       "array([[ True,  True,  True],\n",
       "       [ True, False, False],\n",
       "       [False, False, False]])"
      ]
     },
     "execution_count": 37,
     "metadata": {},
     "output_type": "execute_result"
    }
   ],
   "source": [
    "x<5"
   ]
  },
  {
   "cell_type": "code",
   "execution_count": 49,
   "id": "47afd82a",
   "metadata": {},
   "outputs": [
    {
     "data": {
      "text/plain": [
       "array([[1, 2, 3],\n",
       "       [4, 5, 0],\n",
       "       [0, 0, 0]])"
      ]
     },
     "execution_count": 49,
     "metadata": {},
     "output_type": "execute_result"
    }
   ],
   "source": [
    "x=np.array([[1,2,3],[4,5,6],[7,8,9]])\n",
    "y=np.copy(x) \n",
    "y[y>5]=0\n",
    "y"
   ]
  },
  {
   "cell_type": "code",
   "execution_count": 53,
   "id": "2fb46a14",
   "metadata": {},
   "outputs": [
    {
     "data": {
      "text/plain": [
       "array([1, 2, 3, 4, 5, 7, 8, 9])"
      ]
     },
     "execution_count": 53,
     "metadata": {},
     "output_type": "execute_result"
    }
   ],
   "source": [
    "y=np.delete(x,5) #deleting the elements\n",
    "y"
   ]
  },
  {
   "cell_type": "code",
   "execution_count": 54,
   "id": "66ef75d0",
   "metadata": {},
   "outputs": [
    {
     "name": "stdout",
     "output_type": "stream",
     "text": [
      "[[1 2]\n",
      " [4 5]\n",
      " [7 8]]\n"
     ]
    }
   ],
   "source": [
    "x=np.array([[1,2,3],[4,5,6],[7,8,9]])\n",
    "index=np.where(x[:,0]>5)\n",
    "y=np.delete(x,index,axis=1) #removing columns\n",
    "print(y)"
   ]
  },
  {
   "cell_type": "code",
   "execution_count": 56,
   "id": "ab8db8ca",
   "metadata": {},
   "outputs": [
    {
     "name": "stdout",
     "output_type": "stream",
     "text": [
      "[[1 2 3]\n",
      " [4 5 6]]\n"
     ]
    }
   ],
   "source": [
    "x=np.array([[1,2,3],[4,5,6],[7,8,9]])\n",
    "index=np.where(x[:,0]>5)\n",
    "y=np.delete(x,index,axis=0) #removing rows\n",
    "print(y)"
   ]
  },
  {
   "cell_type": "code",
   "execution_count": 57,
   "id": "f7feb678",
   "metadata": {},
   "outputs": [
    {
     "data": {
      "text/plain": [
       "array([0. , 0.1, 0.2, 0.3, 0.4, 0.5, 0.6, 0.7, 0.8, 0.9])"
      ]
     },
     "execution_count": 57,
     "metadata": {},
     "output_type": "execute_result"
    }
   ],
   "source": [
    "np.arange(0,1,0.1) #using step size 0.1"
   ]
  },
  {
   "cell_type": "code",
   "execution_count": 60,
   "id": "a97128b6",
   "metadata": {},
   "outputs": [
    {
     "data": {
      "text/plain": [
       "array([-3.14159265, -3.04159265, -2.94159265, -2.84159265, -2.74159265,\n",
       "       -2.64159265, -2.54159265, -2.44159265, -2.34159265, -2.24159265,\n",
       "       -2.14159265, -2.04159265, -1.94159265, -1.84159265, -1.74159265,\n",
       "       -1.64159265, -1.54159265, -1.44159265, -1.34159265, -1.24159265,\n",
       "       -1.14159265, -1.04159265, -0.94159265, -0.84159265, -0.74159265,\n",
       "       -0.64159265, -0.54159265, -0.44159265, -0.34159265, -0.24159265,\n",
       "       -0.14159265, -0.04159265,  0.05840735,  0.15840735,  0.25840735,\n",
       "        0.35840735,  0.45840735,  0.55840735,  0.65840735,  0.75840735,\n",
       "        0.85840735,  0.95840735,  1.05840735,  1.15840735,  1.25840735,\n",
       "        1.35840735,  1.45840735,  1.55840735,  1.65840735,  1.75840735,\n",
       "        1.85840735,  1.95840735,  2.05840735,  2.15840735,  2.25840735,\n",
       "        2.35840735,  2.45840735,  2.55840735,  2.65840735,  2.75840735,\n",
       "        2.85840735,  2.95840735,  3.05840735])"
      ]
     },
     "execution_count": 60,
     "metadata": {},
     "output_type": "execute_result"
    }
   ],
   "source": [
    "x = np.arange(-np.pi, np.pi, 0.1)\n",
    "x"
   ]
  },
  {
   "cell_type": "code",
   "execution_count": 63,
   "id": "b6bdf8ef",
   "metadata": {},
   "outputs": [
    {
     "data": {
      "text/plain": [
       "array([-1.22464680e-16, -9.98334166e-02, -1.98669331e-01, -2.95520207e-01,\n",
       "       -3.89418342e-01, -4.79425539e-01, -5.64642473e-01, -6.44217687e-01,\n",
       "       -7.17356091e-01, -7.83326910e-01, -8.41470985e-01, -8.91207360e-01,\n",
       "       -9.32039086e-01, -9.63558185e-01, -9.85449730e-01, -9.97494987e-01,\n",
       "       -9.99573603e-01, -9.91664810e-01, -9.73847631e-01, -9.46300088e-01,\n",
       "       -9.09297427e-01, -8.63209367e-01, -8.08496404e-01, -7.45705212e-01,\n",
       "       -6.75463181e-01, -5.98472144e-01, -5.15501372e-01, -4.27379880e-01,\n",
       "       -3.34988150e-01, -2.39249329e-01, -1.41120008e-01, -4.15806624e-02,\n",
       "        5.83741434e-02,  1.57745694e-01,  2.55541102e-01,  3.50783228e-01,\n",
       "        4.42520443e-01,  5.29836141e-01,  6.11857891e-01,  6.87766159e-01,\n",
       "        7.56802495e-01,  8.18277111e-01,  8.71575772e-01,  9.16165937e-01,\n",
       "        9.51602074e-01,  9.77530118e-01,  9.93691004e-01,  9.99923258e-01,\n",
       "        9.96164609e-01,  9.82452613e-01,  9.58924275e-01,  9.25814682e-01,\n",
       "        8.83454656e-01,  8.32267442e-01,  7.72764488e-01,  7.05540326e-01,\n",
       "        6.31266638e-01,  5.50685543e-01,  4.64602179e-01,  3.73876665e-01,\n",
       "        2.79415498e-01,  1.82162504e-01,  8.30894028e-02])"
      ]
     },
     "execution_count": 63,
     "metadata": {},
     "output_type": "execute_result"
    }
   ],
   "source": [
    "y = np.sin(x)\n",
    "y"
   ]
  },
  {
   "cell_type": "code",
   "execution_count": 64,
   "id": "a2b657af",
   "metadata": {},
   "outputs": [
    {
     "data": {
      "text/plain": [
       "array([3.14159265, 3.04159265, 2.94159265, 2.84159265, 2.74159265,\n",
       "       2.64159265, 2.54159265, 2.44159265, 2.34159265, 2.24159265,\n",
       "       2.14159265, 2.04159265, 1.94159265, 1.84159265, 1.74159265,\n",
       "       1.64159265, 1.54159265, 1.44159265, 1.34159265, 1.24159265,\n",
       "       1.14159265, 1.04159265, 0.94159265, 0.84159265, 0.74159265,\n",
       "       0.64159265, 0.54159265, 0.44159265, 0.34159265, 0.24159265,\n",
       "       0.14159265, 0.04159265, 0.05840735, 0.15840735, 0.25840735,\n",
       "       0.35840735, 0.45840735, 0.55840735, 0.65840735, 0.75840735,\n",
       "       0.85840735, 0.95840735, 1.05840735, 1.15840735, 1.25840735,\n",
       "       1.35840735, 1.45840735, 1.55840735, 1.65840735, 1.75840735,\n",
       "       1.85840735, 1.95840735, 2.05840735, 2.15840735, 2.25840735,\n",
       "       2.35840735, 2.45840735, 2.55840735, 2.65840735, 2.75840735,\n",
       "       2.85840735, 2.95840735, 3.05840735])"
      ]
     },
     "execution_count": 64,
     "metadata": {},
     "output_type": "execute_result"
    }
   ],
   "source": [
    "x_abs = np.abs(x)\n",
    "x_abs "
   ]
  },
  {
   "cell_type": "code",
   "execution_count": 65,
   "id": "dfe4799b",
   "metadata": {},
   "outputs": [
    {
     "data": {
      "text/plain": [
       "array([ 0.04321392,  0.04775877,  0.0527816 ,  0.05833269,  0.06446759,\n",
       "        0.07124771,  0.07874089,  0.08702214,  0.09617434,  0.10628909,\n",
       "        0.11746761,  0.12982179,  0.14347526,  0.15856469,  0.17524108,\n",
       "        0.19367135,  0.21403994,  0.23655072,  0.26142897,  0.2889237 ,\n",
       "        0.31931007,  0.3528922 ,  0.3900062 ,  0.43102351,  0.47635464,\n",
       "        0.5264533 ,  0.58182087,  0.64301151,  0.71063762,  0.78537603,\n",
       "        0.86797475,  0.95926045,  1.06014675,  1.17164336,  1.29486617,\n",
       "        1.43104843,  1.58155311,  1.7478865 ,  1.93171333,  2.1348734 ,\n",
       "        2.35939999,  2.60754026,  2.88177766,  3.18485686,  3.51981118,\n",
       "        3.88999295,  4.29910708,  4.75124812,  5.25094125,  5.80318756,\n",
       "        6.41351413,  7.0880293 ,  7.83348384,  8.65733853,  9.56783877,\n",
       "       10.57409716, 11.68618467, 12.91523144, 14.27353818, 15.7746993 ,\n",
       "       17.43373891, 19.26726123, 21.29361679])"
      ]
     },
     "execution_count": 65,
     "metadata": {},
     "output_type": "execute_result"
    }
   ],
   "source": [
    "y2 = np.exp(x)\n",
    "y2"
   ]
  },
  {
   "cell_type": "code",
   "execution_count": 66,
   "id": "72bbfd67",
   "metadata": {},
   "outputs": [],
   "source": [
    "np.where?"
   ]
  },
  {
   "cell_type": "markdown",
   "id": "52b993ef",
   "metadata": {},
   "source": [
    "# Assignment"
   ]
  },
  {
   "cell_type": "code",
   "execution_count": null,
   "id": "046a88b8",
   "metadata": {},
   "outputs": [],
   "source": [
    "#Part 1: Finding distance considering only high probability stars"
   ]
  },
  {
   "cell_type": "code",
   "execution_count": 68,
   "id": "ad2a7796",
   "metadata": {},
   "outputs": [],
   "source": [
    "beehive_data = np.loadtxt('Beehive_data.csv', delimiter=',')"
   ]
  },
  {
   "cell_type": "code",
   "execution_count": 69,
   "id": "4d2095e1",
   "metadata": {},
   "outputs": [],
   "source": [
    "indices = np.where(beehive_data[:, 2]>90)\n",
    "high_prob = beehive_data[indices] "
   ]
  },
  {
   "cell_type": "code",
   "execution_count": 70,
   "id": "8d6b74ac",
   "metadata": {},
   "outputs": [],
   "source": [
    "logd = (high_prob[:,0] + 2.5*high_prob[:,1] + 0.17)/5 \n",
    "                                                        \n",
    "d = 10**logd "
   ]
  },
  {
   "cell_type": "code",
   "execution_count": 71,
   "id": "a0ea49fc",
   "metadata": {},
   "outputs": [
    {
     "name": "stdout",
     "output_type": "stream",
     "text": [
      "159.9814397624894\n"
     ]
    }
   ],
   "source": [
    "sum_of_dist = 0\n",
    "for i in d: #Here we take the sum of all elements in the array\n",
    "    sum_of_dist = sum_of_dist + i\n",
    "dist_of_cluster= sum_of_dist/d.size #Answer is the average\n",
    "print(dist_of_cluster)"
   ]
  },
  {
   "cell_type": "code",
   "execution_count": null,
   "id": "f4a030f0",
   "metadata": {},
   "outputs": [],
   "source": [
    "#Part 2: Finding distance by taking average weighted by probabilities"
   ]
  },
  {
   "cell_type": "code",
   "execution_count": 73,
   "id": "25105f05",
   "metadata": {},
   "outputs": [
    {
     "name": "stdout",
     "output_type": "stream",
     "text": [
      "159.5464083490186\n"
     ]
    }
   ],
   "source": [
    "logd_full = (beehive_data[:,0] + 2.5*beehive_data[:,1] + 0.17)/5 \n",
    "d_full = 10**logd_full\n",
    "weighted_dist = d_full * beehive_data[:,2] \n",
    "weighted_sum = 0\n",
    "sum_of_weights = 0\n",
    "for i in range(0, weighted_dist.size):\n",
    "    weighted_sum = weighted_sum + weighted_dist[i] \n",
    "    sum_of_weights = sum_of_weights + beehive_data[i,2] \n",
    "weighted_dist_of_cluster = weighted_sum/sum_of_weights \n",
    "print(weighted_dist_of_cluster)"
   ]
  },
  {
   "cell_type": "code",
   "execution_count": null,
   "id": "4450e359",
   "metadata": {},
   "outputs": [],
   "source": []
  }
 ],
 "metadata": {
  "kernelspec": {
   "display_name": "Python 3 (ipykernel)",
   "language": "python",
   "name": "python3"
  },
  "language_info": {
   "codemirror_mode": {
    "name": "ipython",
    "version": 3
   },
   "file_extension": ".py",
   "mimetype": "text/x-python",
   "name": "python",
   "nbconvert_exporter": "python",
   "pygments_lexer": "ipython3",
   "version": "3.9.13"
  }
 },
 "nbformat": 4,
 "nbformat_minor": 5
}
