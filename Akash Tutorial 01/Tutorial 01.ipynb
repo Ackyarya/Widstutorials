{
 "cells": [
  {
   "cell_type": "markdown",
   "id": "4b5e4230",
   "metadata": {},
   "source": [
    "# Tutorial 1"
   ]
  },
  {
   "cell_type": "markdown",
   "id": "f403cd9b",
   "metadata": {},
   "source": [
    "Hello World"
   ]
  },
  {
   "cell_type": "code",
   "execution_count": 2,
   "id": "00b6eb34",
   "metadata": {},
   "outputs": [
    {
     "name": "stdout",
     "output_type": "stream",
     "text": [
      "\n",
      "Hello World!\n"
     ]
    }
   ],
   "source": [
    "print(\"\\nHello World!\")"
   ]
  },
  {
   "cell_type": "markdown",
   "id": "254549fc",
   "metadata": {},
   "source": [
    "String Design and Layout"
   ]
  },
  {
   "cell_type": "code",
   "execution_count": 3,
   "id": "343c2a64",
   "metadata": {},
   "outputs": [
    {
     "name": "stdout",
     "output_type": "stream",
     "text": [
      "Hello World \n",
      "\n",
      "Hello World\n",
      "\n",
      "Hello 'World'\n",
      "\n",
      "\"Hello\" World\n",
      "\n",
      "'Hello' \"World\" \n",
      "\n",
      "Hello\n",
      "World\n"
     ]
    }
   ],
   "source": [
    "print(\"Hello\",\"World \\n\") \n",
    "print('Hello World\\n')    \n",
    "print(\"Hello 'World'\\n\")\n",
    "print('\"Hello\" World\\n')\n",
    "print(\"'Hello' \\\"World\\\" \\n\")\n",
    "print('''Hello\n",
    "World''')"
   ]
  },
  {
   "cell_type": "markdown",
   "id": "7b7064a8",
   "metadata": {},
   "source": [
    "Format of String"
   ]
  },
  {
   "cell_type": "code",
   "execution_count": 4,
   "id": "b01c407a",
   "metadata": {},
   "outputs": [
    {
     "name": "stdout",
     "output_type": "stream",
     "text": [
      "Hello, my name is Akash Arya\n",
      "Hello, my name is Akash Arya\n",
      "Hello, my name is Akash Arya\n"
     ]
    }
   ],
   "source": [
    "name = \"Akash Arya\"\n",
    "print(\"Hello, my name is %s\"% name)\n",
    "print(\"Hello, my name is {}\".format(name))\n",
    "print(f\"Hello, my name is {name}\") # Will only work in Python 3.6+"
   ]
  },
  {
   "cell_type": "code",
   "execution_count": 6,
   "id": "88a767de",
   "metadata": {},
   "outputs": [
    {
     "name": "stdout",
     "output_type": "stream",
     "text": [
      "<class 'complex'>\n"
     ]
    }
   ],
   "source": [
    "integer = 1\n",
    "floating_point = 3.14\n",
    "complex_number = 3 + 4j\n",
    "boolean_variable = True\n",
    "print(f'{type(complex_number)}')"
   ]
  },
  {
   "cell_type": "code",
   "execution_count": 10,
   "id": "0368cfb2",
   "metadata": {},
   "outputs": [
    {
     "name": "stdout",
     "output_type": "stream",
     "text": [
      "(3+4j)\n"
     ]
    }
   ],
   "source": [
    "integer = 1\n",
    "floating_point = 3.14\n",
    "complex_number = 3 + 4j\n",
    "boolean_variable = True\n",
    "print(\"{}\".format(complex_number))"
   ]
  },
  {
   "cell_type": "raw",
   "id": "b1fca191",
   "metadata": {},
   "source": [
    "Storing the Values"
   ]
  },
  {
   "cell_type": "code",
   "execution_count": 12,
   "id": "1d17967f",
   "metadata": {},
   "outputs": [
    {
     "name": "stdout",
     "output_type": "stream",
     "text": [
      "a+b = 9\n",
      "a-b = -3\n",
      "a*b = 18\n",
      "a/b = 0.5\n",
      "a//b = 0\n",
      "a**b = 729\n"
     ]
    }
   ],
   "source": [
    "a = 3\n",
    "b = 6 \n",
    "print(\"a+b = {}\".format(a+b))\n",
    "print(\"a-b = {}\".format(a-b))\n",
    "print(\"a*b = {}\".format(a*b))\n",
    "print(\"a/b = {}\".format(a/b))\n",
    "print(\"a//b = {}\".format(a//b))\n",
    "print(\"a**b = {}\".format(a**b))"
   ]
  },
  {
   "cell_type": "markdown",
   "id": "dfe14609",
   "metadata": {},
   "source": [
    "Tuples ()"
   ]
  },
  {
   "cell_type": "code",
   "execution_count": 17,
   "id": "c6a1d0ad",
   "metadata": {},
   "outputs": [
    {
     "data": {
      "text/plain": [
       "'a'"
      ]
     },
     "execution_count": 17,
     "metadata": {},
     "output_type": "execute_result"
    }
   ],
   "source": [
    "tuple1=('a','b','c','d','e','f','g','h',1,2,3,4,5,6,7,8,9,10)\n",
    "tuple1[0]"
   ]
  },
  {
   "cell_type": "code",
   "execution_count": 18,
   "id": "354934a0",
   "metadata": {},
   "outputs": [
    {
     "data": {
      "text/plain": [
       "('e', 'f', 'g', 'h', 1)"
      ]
     },
     "execution_count": 18,
     "metadata": {},
     "output_type": "execute_result"
    }
   ],
   "source": [
    "tuple1=('a','b','c','d','e','f','g','h',1,2,3,4,5,6,7,8,9,10)\n",
    "tuple1[4:9]"
   ]
  },
  {
   "cell_type": "code",
   "execution_count": 19,
   "id": "e0234672",
   "metadata": {},
   "outputs": [
    {
     "data": {
      "text/plain": [
       "('c', 'e', 'g', 1, 3, 5, 7)"
      ]
     },
     "execution_count": 19,
     "metadata": {},
     "output_type": "execute_result"
    }
   ],
   "source": [
    "tuple1=('a','b','c','d','e','f','g','h',1,2,3,4,5,6,7,8,9,10)\n",
    "tuple1[2:15:2] "
   ]
  },
  {
   "cell_type": "code",
   "execution_count": 20,
   "id": "fa86abc8",
   "metadata": {},
   "outputs": [
    {
     "data": {
      "text/plain": [
       "('a', 'c', 'e', 'g', 1, 3)"
      ]
     },
     "execution_count": 20,
     "metadata": {},
     "output_type": "execute_result"
    }
   ],
   "source": [
    "tuple1=('a','b','c','d','e','f','g','h',1,2,3,4,5,6,7,8,9,10)\n",
    "tuple1[:12:2]"
   ]
  },
  {
   "cell_type": "code",
   "execution_count": 21,
   "id": "8f84787e",
   "metadata": {},
   "outputs": [
    {
     "data": {
      "text/plain": [
       "('f', 1, 4, 7, 10)"
      ]
     },
     "execution_count": 21,
     "metadata": {},
     "output_type": "execute_result"
    }
   ],
   "source": [
    "tuple1=('a','b','c','d','e','f','g','h',1,2,3,4,5,6,7,8,9,10)\n",
    "tuple1[5::3]"
   ]
  },
  {
   "cell_type": "code",
   "execution_count": 22,
   "id": "1be2c843",
   "metadata": {},
   "outputs": [
    {
     "data": {
      "text/plain": [
       "9"
      ]
     },
     "execution_count": 22,
     "metadata": {},
     "output_type": "execute_result"
    }
   ],
   "source": [
    "tuple1=('a','b','c','d','e','f','g','h',1,2,3,4,5,6,7,8,9,10)\n",
    "tuple1[-2]"
   ]
  },
  {
   "cell_type": "markdown",
   "id": "67ff1488",
   "metadata": {},
   "source": [
    "Lists()"
   ]
  },
  {
   "cell_type": "code",
   "execution_count": 25,
   "id": "39f253a7",
   "metadata": {},
   "outputs": [
    {
     "name": "stdout",
     "output_type": "stream",
     "text": [
      "[[1, 2, 3], ['a', 'b', 'c'], ['astro', 'cosmo', 'gravity']]\n"
     ]
    }
   ],
   "source": [
    "nested_list=[[1,2,3],['a','b','c'],['astro','cosmo','gravity']]\n",
    "print(nested_list)"
   ]
  },
  {
   "cell_type": "code",
   "execution_count": 26,
   "id": "d4a44e68",
   "metadata": {},
   "outputs": [
    {
     "name": "stdout",
     "output_type": "stream",
     "text": [
      "['astro', 3.26, 2, 3, 'cosmo']\n"
     ]
    }
   ],
   "source": [
    "my_list=['astro',1,2,3,'cosmo']\n",
    "my_list[1]=3.26\n",
    "print(my_list)"
   ]
  },
  {
   "cell_type": "code",
   "execution_count": 27,
   "id": "fa29d09d",
   "metadata": {},
   "outputs": [
    {
     "name": "stdout",
     "output_type": "stream",
     "text": [
      "['astro', 1, 2, 3, 'cosmo', ['gravity', 'relativity']]\n"
     ]
    }
   ],
   "source": [
    "my_list=['astro',1,2,3,'cosmo']\n",
    "my_list.append(['gravity','relativity']) # This will be important later!\n",
    "print(my_list)"
   ]
  },
  {
   "cell_type": "code",
   "execution_count": 28,
   "id": "b2687b37",
   "metadata": {},
   "outputs": [
    {
     "name": "stdout",
     "output_type": "stream",
     "text": [
      "['astro', 'cosmo']\n"
     ]
    }
   ],
   "source": [
    "my_list=['astro',1,2,3,'cosmo']\n",
    "del my_list[1:4]\n",
    "print(my_list)"
   ]
  },
  {
   "cell_type": "code",
   "execution_count": 29,
   "id": "2a778295",
   "metadata": {},
   "outputs": [
    {
     "name": "stdout",
     "output_type": "stream",
     "text": [
      "['astro', 1, 2, 3]\n"
     ]
    }
   ],
   "source": [
    "my_list=['astro',1,2,3,'cosmo']\n",
    "my_list.remove('cosmo')\n",
    "print(my_list)"
   ]
  },
  {
   "cell_type": "code",
   "execution_count": 30,
   "id": "26358b1f",
   "metadata": {},
   "outputs": [
    {
     "name": "stdout",
     "output_type": "stream",
     "text": [
      "5\n"
     ]
    }
   ],
   "source": [
    "my_list=['astro',1,2,3,'cosmo']\n",
    "print(len(my_list))"
   ]
  },
  {
   "cell_type": "code",
   "execution_count": 32,
   "id": "56c0d170",
   "metadata": {},
   "outputs": [
    {
     "name": "stdout",
     "output_type": "stream",
     "text": [
      "['Akash', 'from', 'IIT', 'Bombay']\n"
     ]
    }
   ],
   "source": [
    "my_string = \"Akash from IIT Bombay\"\n",
    "print(my_string.split())"
   ]
  },
  {
   "cell_type": "code",
   "execution_count": 33,
   "id": "3a8edfb7",
   "metadata": {},
   "outputs": [
    {
     "name": "stdout",
     "output_type": "stream",
     "text": [
      "['Akash from IIT Bombay']\n"
     ]
    }
   ],
   "source": [
    "my_string = \"Akash from IIT Bombay\"\n",
    "print(my_string.split(':'))"
   ]
  },
  {
   "cell_type": "code",
   "execution_count": 34,
   "id": "288fb221",
   "metadata": {},
   "outputs": [
    {
     "name": "stdout",
     "output_type": "stream",
     "text": [
      "   Why are there spaces here?   \n"
     ]
    }
   ],
   "source": [
    "string_with_spaces = \"   Why are there spaces here?   \"\n",
    "print(string_with_spaces)"
   ]
  },
  {
   "cell_type": "code",
   "execution_count": 35,
   "id": "a45c464c",
   "metadata": {},
   "outputs": [
    {
     "name": "stdout",
     "output_type": "stream",
     "text": [
      "['Why', 'are', 'there', 'spaces', 'here?']\n"
     ]
    }
   ],
   "source": [
    "string_with_spaces = \"   Why are there spaces here?   \"\n",
    "list_of_words = string_with_spaces.split()\n",
    "print(list_of_words)"
   ]
  },
  {
   "cell_type": "code",
   "execution_count": 36,
   "id": "124aa144",
   "metadata": {},
   "outputs": [
    {
     "name": "stdout",
     "output_type": "stream",
     "text": [
      "Why are there spaces here?\n"
     ]
    }
   ],
   "source": [
    "string_with_spaces = \"   Why are there spaces here?   \"\n",
    "list_of_words = string_with_spaces.split()\n",
    "string_without_spaces = ' '.join(list_of_words)\n",
    "print(string_without_spaces)"
   ]
  },
  {
   "cell_type": "code",
   "execution_count": 37,
   "id": "080316cf",
   "metadata": {},
   "outputs": [
    {
     "name": "stdout",
     "output_type": "stream",
     "text": [
      "Why are there spaces here?\n"
     ]
    }
   ],
   "source": [
    "string_with_spaces = \"   Why are there spaces here?   \"\n",
    "list_of_words = string_with_spaces.split()\n",
    "string_without_spaces = string_with_spaces.strip()\n",
    "print(string_without_spaces)"
   ]
  },
  {
   "cell_type": "markdown",
   "id": "70100528",
   "metadata": {},
   "source": [
    "Dictionaries {}"
   ]
  },
  {
   "cell_type": "code",
   "execution_count": 38,
   "id": "34545f78",
   "metadata": {},
   "outputs": [
    {
     "name": "stdout",
     "output_type": "stream",
     "text": [
      "The largest moon of Mars is Phobos\n"
     ]
    }
   ],
   "source": [
    "my_dictionary = {'Phobos':'Mars', 'Ganymede':'Jupiter', 'Titan':'Saturn', 'Titania':'Uranus', 'Triton':'Neptune'}\n",
    "moon = 'Phobos'\n",
    "print(f'The largest moon of {my_dictionary[moon]} is {moon}')"
   ]
  },
  {
   "cell_type": "raw",
   "id": "1bcdc296",
   "metadata": {},
   "source": [
    "Conditionals in Python"
   ]
  },
  {
   "cell_type": "code",
   "execution_count": 39,
   "id": "00893aac",
   "metadata": {},
   "outputs": [
    {
     "name": "stdout",
     "output_type": "stream",
     "text": [
      "i am in the elif block\n",
      "5 is equal to 5\n"
     ]
    }
   ],
   "source": [
    "a=5\n",
    "if a<5:\n",
    "    print(\"i am in the if block\")\n",
    "    print(a,\"is less than 5\")\n",
    "elif a==5:\n",
    "    print(\"i am in the elif block\")\n",
    "    print(a, \"is equal to 5\")\n",
    "else:\n",
    "    print(\"i am in the else block\")\n",
    "    print(a, \"i more than 5\")"
   ]
  },
  {
   "cell_type": "code",
   "execution_count": 40,
   "id": "4b7f69db",
   "metadata": {},
   "outputs": [
    {
     "name": "stdout",
     "output_type": "stream",
     "text": [
      "b is between 7 and 9\n"
     ]
    }
   ],
   "source": [
    "b=8\n",
    "if  7 < b < 9:\n",
    "    print(\"b is between 7 and 9\")\n",
    "elif b < 7:\n",
    "    print(\"b is smaller than 7\")\n",
    "else:\n",
    "    print(\"b is greater than 9\")"
   ]
  },
  {
   "cell_type": "markdown",
   "id": "ab3b458e",
   "metadata": {},
   "source": [
    "a=True\n",
    "b=False\n",
    "print(a and b)"
   ]
  },
  {
   "cell_type": "raw",
   "id": "9d2c8cd8",
   "metadata": {},
   "source": [
    "Loops"
   ]
  },
  {
   "cell_type": "code",
   "execution_count": 43,
   "id": "0957a5d5",
   "metadata": {},
   "outputs": [
    {
     "name": "stdout",
     "output_type": "stream",
     "text": [
      "1\n",
      "2\n",
      "3\n",
      "4\n"
     ]
    }
   ],
   "source": [
    "for i in [1,2,3,4]:\n",
    "    print(i)"
   ]
  },
  {
   "cell_type": "code",
   "execution_count": 45,
   "id": "041ce389",
   "metadata": {},
   "outputs": [
    {
     "name": "stdout",
     "output_type": "stream",
     "text": [
      "0525456585"
     ]
    }
   ],
   "source": [
    "for i in range(0,10,2): \n",
    "    print(i, end='5')"
   ]
  },
  {
   "cell_type": "code",
   "execution_count": 46,
   "id": "f2eeeb31",
   "metadata": {},
   "outputs": [
    {
     "name": "stdout",
     "output_type": "stream",
     "text": [
      "25 16 9 4 1 "
     ]
    }
   ],
   "source": [
    "my_iter=5\n",
    "while my_iter > 0:\n",
    "    print(my_iter**2, end=' ')\n",
    "    my_iter-=1"
   ]
  },
  {
   "cell_type": "code",
   "execution_count": 5,
   "id": "c32e9977",
   "metadata": {},
   "outputs": [
    {
     "name": "stdout",
     "output_type": "stream",
     "text": [
      "['# Name of Moon, Name of Planet, Diameter (km)', 'Moon,Earth,1737.1', 'Phobos,Mars,11.1', 'Deimos,Mars,6.2', 'Io,Jupiter,1818.1']\n"
     ]
    }
   ],
   "source": [
    "with open('Moons_and_planets.csv', 'r') as f:\n",
    "    lines = f.read().split('\\n')\n",
    "    print(lines[:5])"
   ]
  },
  {
   "cell_type": "code",
   "execution_count": 10,
   "id": "dde1d98c",
   "metadata": {},
   "outputs": [
    {
     "data": {
      "text/plain": [
       "[['# Name of Moon', ' Name of Planet', ' Diameter (km)'],\n",
       " ['Moon', 'Earth', '1737.1'],\n",
       " ['Phobos', 'Mars', '11.1'],\n",
       " ['Deimos', 'Mars', '6.2'],\n",
       " ['Io', 'Jupiter', '1818.1']]"
      ]
     },
     "execution_count": 10,
     "metadata": {},
     "output_type": "execute_result"
    }
   ],
   "source": [
    "data_moons = [] #appending values in empty list\n",
    "for line in lines:\n",
    "    data_moons.append(line.split(',')) \n",
    "data_moons[:5]"
   ]
  },
  {
   "cell_type": "markdown",
   "id": "97ff109f",
   "metadata": {},
   "source": [
    "# Assignment"
   ]
  },
  {
   "cell_type": "code",
   "execution_count": 29,
   "id": "7da1f4a7",
   "metadata": {},
   "outputs": [
    {
     "name": "stdout",
     "output_type": "stream",
     "text": [
      "[['Nix', 'Pluto', '23.0'], ['Hydra', 'Pluto', '30.5'], ['Kerberos', 'Pluto', '14.0'], ['Styx', 'Pluto', '10.0'], ['']]\n"
     ]
    }
   ],
   "source": [
    "with open('Moons_and_planets.csv','r') as f:    #creating a list \n",
    "    lines=f.read().split('\\n')\n",
    "del lines[0]\n",
    "data_moons=[]   #nested list with planet, moon, diameter\n",
    "for line in lines:\n",
    "    data_moons.append(line.split(','))\n",
    "mer,ven,ear,mar,jup,sat,ura,nep,plu=[0,0,0,0,0,0,0,0,0] #counter\n",
    "print(data_moons[-5:])\n",
    "del data_moons[len(data_moons)-1]\n",
    "\n",
    "for i in range(len(data_moons)):            #if-elif ladder to count number of moons\n",
    "    if data_moons[i][1] == 'Mercury':\n",
    "        mer=mer+1\n",
    "    elif data_moons[i][1]== 'Venus':\n",
    "        ven=ven+1\n",
    "    elif data_moons[i][1]== 'Earth':\n",
    "        ear=ear+1\n",
    "    elif data_moons[i][1]== 'Mars':\n",
    "        mar=mar+1\n",
    "    elif data_moons[i][1]== 'Jupiter':\n",
    "        jup=jup+1\n",
    "    elif data_moons[i][1]== 'Saturn':\n",
    "        sat=sat+1\n",
    "    elif data_moons[i][1]== 'Uranus':\n",
    "        ura=ura+1\n",
    "    elif data_moons[i][1]== 'Neptune':\n",
    "        nep=nep+1\n",
    "    elif data_moons[i][1]== 'Pluto':\n",
    "        plu=plu+1\n",
    "\n",
    "\n"
   ]
  },
  {
   "cell_type": "code",
   "execution_count": 26,
   "id": "b21a2669",
   "metadata": {},
   "outputs": [
    {
     "name": "stdout",
     "output_type": "stream",
     "text": [
      "0 0 1 2 79 82 27 14 5\n"
     ]
    }
   ],
   "source": [
    "print(mer,ven,ear,mar,jup,sat,ura,nep,plu)"
   ]
  },
  {
   "cell_type": "code",
   "execution_count": 27,
   "id": "c9dda2e6",
   "metadata": {},
   "outputs": [
    {
     "name": "stdout",
     "output_type": "stream",
     "text": [
      "Jupiter has 79 moons\n"
     ]
    }
   ],
   "source": [
    "print(f\"Jupiter has {jup} moons\")"
   ]
  },
  {
   "cell_type": "code",
   "execution_count": 30,
   "id": "21285297",
   "metadata": {},
   "outputs": [
    {
     "name": "stdout",
     "output_type": "stream",
     "text": [
      "Moon           Planet  Diameter\n",
      "------------------------------\n",
      "S/2009 S 1     Saturn   0.15\n",
      "Aegaeon        Saturn   0.33\n",
      "S/2010 J 2     Jupiter   0.5\n",
      "S/2011 J 2     Jupiter   0.5\n",
      "Valetudo       Jupiter   0.5\n",
      "S/2017 J 8     Jupiter   0.5\n",
      "S/2011 J 1     Jupiter   0.5\n",
      "S/2003 J 9     Jupiter   0.5\n",
      "S/2003 J 12    Jupiter   0.5\n",
      "Euporie        Jupiter   1.0\n",
      "Orthosie       Jupiter   1.0\n",
      "Sponde         Jupiter   1.0\n",
      "Kale           Jupiter   1.0\n",
      "Pasithee       Jupiter   1.0\n",
      "Mneme          Jupiter   1.0\n",
      "Thelxinoe      Jupiter   1.0\n",
      "Kallichore     Jupiter   1.0\n",
      "Cyllene        Jupiter   1.0\n",
      "Kore           Jupiter   1.0\n",
      "Herse          Jupiter   1.0\n",
      "S/2010 J 1     Jupiter   1.0\n",
      "S/2003 J 18    Jupiter   1.0\n",
      "Philophrosyne  Jupiter   1.0\n",
      "Eupheme        Jupiter   1.0\n",
      "S/2003 J 19    Jupiter   1.0\n",
      "S/2017 J 2     Jupiter   1.0\n",
      "S/2017 J 3     Jupiter   1.0\n",
      "Pandia         Jupiter   1.0\n",
      "S/2017 J 5     Jupiter   1.0\n",
      "S/2017 J 6     Jupiter   1.0\n",
      "S/2017 J 7     Jupiter   1.0\n",
      "S/2017 J 9     Jupiter   1.0\n",
      "Ersa           Jupiter   1.0\n",
      "S/2003 J 2     Jupiter   1.0\n",
      "S/2003 J 4     Jupiter   1.0\n",
      "S/2003 J 10    Jupiter   1.0\n",
      "S/2003 J 16    Jupiter   1.0\n",
      "S/2003 J 23    Jupiter   1.0\n",
      "Anthe          Saturn    1.0\n",
      "Polydeuces     Saturn   1.25\n",
      "Aitne          Jupiter   1.5\n",
      "Eurydome       Jupiter   1.5\n",
      "Euanthe        Jupiter   1.5\n",
      "Hegemone       Jupiter   1.5\n",
      "Arche          Jupiter   1.5\n",
      "Carpo          Jupiter   1.5\n",
      "Erinome        Jupiter   1.6\n",
      "Methone        Saturn    1.6\n",
      "Chaldene       Jupiter   1.9\n",
      "Isonoe         Jupiter   1.9\n",
      "Autonoe        Jupiter   2.0\n",
      "Thyone         Jupiter   2.0\n",
      "Hermippe       Jupiter   2.0\n",
      "Aoede          Jupiter   2.0\n",
      "Helike         Jupiter   2.0\n",
      "Eukelade       Jupiter   2.0\n",
      "Dia            Jupiter   2.0\n",
      "Eirene         Jupiter   2.0\n",
      "S/2017 J 1     Jupiter   2.0\n",
      "Pallene        Saturn    2.0\n",
      "Fenrir         Saturn    2.0\n",
      "S/2004 S 17    Saturn    2.0\n",
      "Harpalyke      Jupiter   2.2\n",
      "Taygete        Jupiter   2.5\n",
      "Farbauti       Saturn    2.5\n",
      "S/2004 S 12    Saturn    2.5\n",
      "Kalyke         Jupiter   2.6\n",
      "Iocaste        Jupiter   2.6\n",
      "Megaclite      Jupiter   2.7\n",
      "S/2016 J 1     Jupiter   3.0\n",
      "Aegir          Saturn    3.0\n",
      "Bebhionn       Saturn    3.0\n",
      "Bergelmir      Saturn    3.0\n",
      "Fornjot        Saturn    3.0\n",
      "Hati           Saturn    3.0\n",
      "Loge           Saturn    3.0\n",
      "Skoll          Saturn    3.0\n",
      "Surtur         Saturn    3.0\n",
      "Jarnsaxa       Saturn    3.0\n",
      "Greip          Saturn    3.0\n",
      "S/2004 S 7     Saturn    3.0\n",
      "S/2004 S 13    Saturn    3.0\n",
      "S/2006 S 1     Saturn    3.0\n",
      "S/2006 S 3     Saturn    3.0\n",
      "S/2007 S 2     Saturn    3.0\n",
      "S/2007 S 3     Saturn    3.0\n",
      "S/2004 S 20    Saturn    3.0\n",
      "S/2004 S 21    Saturn    3.0\n",
      "S/2004 S 22    Saturn    3.0\n",
      "S/2004 S 24    Saturn    3.0\n",
      "S/2004 S 30    Saturn    3.0\n",
      "S/2004 S 34    Saturn    3.0\n",
      "S/2004 S 36    Saturn    3.0\n",
      "S/2004 S 39    Saturn    3.0\n",
      "Praxidike      Jupiter   3.4\n",
      "Suttungr       Saturn    3.5\n",
      "Mundilfari     Saturn    3.5\n",
      "Thrymr         Saturn    3.5\n",
      "Narvi          Saturn    3.5\n",
      "Bestla         Saturn    3.5\n",
      "Kari           Saturn    3.5\n",
      "Tarqeq         Saturn    3.5\n",
      "Daphnis        Saturn    3.8\n",
      "Themisto       Jupiter   4.0\n",
      "Skathi         Saturn    4.0\n",
      "Hyrrokkin      Saturn    4.0\n",
      "S/2004 S 23    Saturn    4.0\n",
      "S/2004 S 25    Saturn    4.0\n",
      "S/2004 S 26    Saturn    4.0\n",
      "S/2004 S 28    Saturn    4.0\n",
      "S/2004 S 29    Saturn    4.0\n",
      "S/2004 S 31    Saturn    4.0\n",
      "S/2004 S 32    Saturn    4.0\n",
      "S/2004 S 33    Saturn    4.0\n",
      "S/2004 S 37    Saturn    4.0\n",
      "S/2004 S 38    Saturn    4.0\n",
      "Callirrhoe     Jupiter   4.3\n",
      "Erriapus       Saturn    5.0\n",
      "Margaret       Uranus    5.5\n",
      "Ijiraq         Saturn    6.0\n",
      "S/2004 S 27    Saturn    6.0\n",
      "S/2004 S 35    Saturn    6.0\n",
      "Francisco      Uranus    6.0\n",
      "Ferdinand      Uranus    6.0\n",
      "Mab            Uranus    6.0\n",
      "Deimos         Mars      6.2\n",
      "Tarvos         Saturn    7.5\n",
      "Kiviuq         Saturn    8.0\n",
      "Adrastea       Jupiter   8.2\n",
      "Ymir           Saturn    9.0\n",
      "Trinculo       Uranus    9.0\n",
      "Cupid          Uranus    9.0\n",
      "Calypso        Saturn    9.5\n",
      "Leda           Jupiter  10.0\n",
      "Stephano       Uranus   10.0\n",
      "Styx           Pluto    10.0\n",
      "Paaliaq        Saturn   11.0\n",
      "Phobos         Mars     11.1\n",
      "Telesto        Saturn   12.0\n",
      "Pan            Saturn   12.8\n",
      "Ananke         Jupiter  14.0\n",
      "Kerberos       Pluto    14.0\n",
      "Perdita        Uranus   15.0\n",
      "Atlas          Saturn   15.3\n",
      "Helene         Saturn   16.0\n",
      "Albiorix       Saturn   16.0\n",
      "Hippocamp      Neptune  17.4\n",
      "Lysithea       Jupiter  18.0\n",
      "Sinope         Jupiter  19.0\n",
      "Siarnaq        Saturn   20.0\n",
      "Psamathe       Neptune  20.0\n",
      "Cordelia       Uranus   20.1\n",
      "Caliban        Uranus   21.0\n",
      "Laomedeia      Neptune  21.0\n",
      "Ophelia        Uranus   21.4\n",
      "Metis          Jupiter  21.5\n",
      "Sao            Neptune  22.0\n",
      "Carme          Jupiter  23.0\n",
      "Nix            Pluto    23.0\n",
      "Setebos        Uranus   24.0\n",
      "Prospero       Uranus   25.0\n",
      "Bianca         Uranus   25.7\n",
      "Pasiphae       Jupiter  30.0\n",
      "Neso           Neptune  30.0\n",
      "Hydra          Pluto    30.5\n",
      "Halimede       Neptune  31.0\n",
      "Desdemona      Uranus   32.0\n",
      "Naiad          Neptune  33.0\n",
      "Rosalind       Uranus   36.0\n",
      "Cressida       Uranus   39.8\n",
      "Belinda        Uranus   40.3\n",
      "Pandora        Saturn   40.6\n",
      "Thalassa       Neptune  41.0\n",
      "Elara          Jupiter  43.0\n",
      "Prometheus     Saturn   46.8\n",
      "Juliet         Uranus   46.8\n",
      "Thebe          Jupiter  49.3\n",
      "Epimetheus     Saturn   58.3\n",
      "Himalia        Jupiter  67.0\n",
      "Portia         Uranus   67.6\n",
      "Despina        Neptune  75.0\n",
      "Sycorax        Uranus   78.5\n",
      "Puck           Uranus   81.0\n",
      "Amalthea       Jupiter  83.5\n",
      "Galatea        Neptune  88.0\n",
      "Janus          Saturn   90.4\n",
      "Larissa        Neptune  97.0\n",
      "Phoebe         Saturn  106.6\n",
      "Hyperion       Saturn  138.6\n",
      "Nereid         Neptune 178.5\n",
      "Mimas          Saturn  198.2\n",
      "Proteus        Neptune 210.0\n",
      "Miranda        Uranus  235.8\n",
      "Enceladus      Saturn  252.3\n",
      "Tethys         Saturn  536.3\n",
      "Dione          Saturn  562.5\n",
      "Ariel          Uranus  578.9\n",
      "Umbriel        Uranus  584.7\n",
      "Charon         Pluto   606.0\n",
      "Iapetus        Saturn  734.5\n",
      "Oberon         Uranus  761.4\n",
      "Rhea           Saturn  764.5\n",
      "Titania        Uranus  788.9\n",
      "Triton         Neptune 1353.4\n",
      "Europa         Jupiter 1560.7\n",
      "Moon           Earth   1737.1\n",
      "Io             Jupiter 1818.1\n",
      "Callisto       Jupiter 2408.4\n",
      "Titan          Saturn  2575.5\n",
      "Ganymede       Jupiter 2634.1\n"
     ]
    }
   ],
   "source": [
    "lis=[]\n",
    "for i in range(len(data_moons)):\n",
    "    lis.append(float(data_moons[i][2]))          #separate list with only float entries created,then bubble sort algorithm on \n",
    "for i in range(len(data_moons)):                 #both lists implemented\n",
    "    for j in range(0,len(data_moons)-1-i):\n",
    "        if lis[j]>lis[j+1]:\n",
    "            lis[j],lis[j+1]=lis[j+1],lis[j]\n",
    "            data_moons[j],data_moons[j+1]=data_moons[j+1],data_moons[j]     \n",
    "            \n",
    "\n",
    "print(\"{:<15}{:<8}{:>5}\".format(\"Moon\", \"Planet\", \"Diameter\"))\n",
    "print(\"-\"*30)\n",
    "for i in data_moons:\n",
    "    print(f\"{i[0]:<15}{i[1]:<8}{i[2]:>5}\")"
   ]
  },
  {
   "cell_type": "code",
   "execution_count": null,
   "id": "7dd2c0ea",
   "metadata": {},
   "outputs": [],
   "source": []
  }
 ],
 "metadata": {
  "kernelspec": {
   "display_name": "Python 3 (ipykernel)",
   "language": "python",
   "name": "python3"
  },
  "language_info": {
   "codemirror_mode": {
    "name": "ipython",
    "version": 3
   },
   "file_extension": ".py",
   "mimetype": "text/x-python",
   "name": "python",
   "nbconvert_exporter": "python",
   "pygments_lexer": "ipython3",
   "version": "3.9.13"
  }
 },
 "nbformat": 4,
 "nbformat_minor": 5
}
