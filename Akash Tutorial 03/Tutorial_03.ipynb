{
 "cells": [
  {
   "cell_type": "markdown",
   "id": "656b22d9",
   "metadata": {},
   "source": [
    "# Functions in Python"
   ]
  },
  {
   "cell_type": "code",
   "execution_count": 2,
   "id": "6cf7417f",
   "metadata": {},
   "outputs": [
    {
     "name": "stdout",
     "output_type": "stream",
     "text": [
      "sin(π/2) = 1.0\n",
      "exp(2) = 7.38905609893065\n",
      "Mean of [ 0  1  2  3  4  5  6  7  8  9 10 11 12 13 14 15 16 17 18 19] is 9.5\n"
     ]
    }
   ],
   "source": [
    "import numpy as np\n",
    "print(f\"sin(π/2) = {np.sin(np.pi/2)}\")\n",
    "print(f\"exp(2) = {np.exp(2)}\")\n",
    "arr = np.arange(20)\n",
    "print(f\"Mean of {arr} is {np.mean(arr)}\")"
   ]
  },
  {
   "cell_type": "code",
   "execution_count": 5,
   "id": "5d67a9a0",
   "metadata": {},
   "outputs": [
    {
     "name": "stdout",
     "output_type": "stream",
     "text": [
      "Hello World\n"
     ]
    }
   ],
   "source": [
    "def my_print():\n",
    "    print(\"Hello World\")\n",
    "my_print()"
   ]
  },
  {
   "cell_type": "code",
   "execution_count": 6,
   "id": "5c13e2db",
   "metadata": {},
   "outputs": [
    {
     "name": "stdout",
     "output_type": "stream",
     "text": [
      "25\n"
     ]
    }
   ],
   "source": [
    "def square(x):\n",
    "    return x**2\n",
    "y=5\n",
    "print(square(y))"
   ]
  },
  {
   "cell_type": "code",
   "execution_count": 7,
   "id": "313cd6fe",
   "metadata": {},
   "outputs": [
    {
     "name": "stdout",
     "output_type": "stream",
     "text": [
      "210\n"
     ]
    }
   ],
   "source": [
    "def my_product(array):\n",
    "    product = 1\n",
    "    for i in range(array.size):\n",
    "        product = product*array[i]\n",
    "    return product\n",
    "\n",
    "my_array = np.array([2,5,3,7])\n",
    "print(my_product(my_array))"
   ]
  },
  {
   "cell_type": "code",
   "execution_count": 8,
   "id": "15935630",
   "metadata": {},
   "outputs": [
    {
     "name": "stdout",
     "output_type": "stream",
     "text": [
      "Akash Arya\n"
     ]
    }
   ],
   "source": [
    "def function(param1,param2):\n",
    "    print(param1,param2)\n",
    "    \n",
    "function(\"Akash\",\"Arya\")"
   ]
  },
  {
   "cell_type": "code",
   "execution_count": 16,
   "id": "fea7f7f3",
   "metadata": {},
   "outputs": [
    {
     "name": "stdout",
     "output_type": "stream",
     "text": [
      "9\n",
      "27\n",
      "(9, 27)\n"
     ]
    }
   ],
   "source": [
    "def powers(x):\n",
    "    return x**2,x**3  \n",
    "\n",
    "squa, cube = powers(3) \n",
    "square_and_cube = powers(3)\n",
    "print(squa)\n",
    "print(cube)\n",
    "print(square_and_cube)"
   ]
  },
  {
   "cell_type": "raw",
   "id": "92d05559",
   "metadata": {},
   "source": [
    "Assignment"
   ]
  },
  {
   "cell_type": "code",
   "execution_count": 19,
   "id": "054c3659",
   "metadata": {},
   "outputs": [
    {
     "name": "stdout",
     "output_type": "stream",
     "text": [
      "Distance of galaxy 1000 is 160.18 Mpc\n"
     ]
    }
   ],
   "source": [
    "serialno, objra, objdec, redshift = np.loadtxt('galaxies.csv', delimiter = ',', unpack = True)\n",
    "\n",
    "H0 = 70 #km/s/Mpc\n",
    "c = 3E5 #km/s\n",
    "\n",
    "def distance_from_z(z):\n",
    "    return z*c/H0 #distance in Mpc\n",
    "\n",
    "def get_distance(num):\n",
    "    index = np.where(serialno == num)[0][0] \n",
    "    return distance_from_z(redshift[index])\n",
    "\n",
    "serial = 1000\n",
    "print(f\"Distance of galaxy {serial} is {get_distance(serial):5.2f} Mpc\")"
   ]
  },
  {
   "cell_type": "code",
   "execution_count": 20,
   "id": "9fe7c0d6",
   "metadata": {},
   "outputs": [
    {
     "name": "stdout",
     "output_type": "stream",
     "text": [
      "Number of Galaxies observed by MaNGA between 200 Mpc and 210 Mpc is 118\n"
     ]
    }
   ],
   "source": [
    "def distance_to_z(distance): #distance in Mpc\n",
    "    return H0*distance/c\n",
    "\n",
    "def count_galaxies(distance1, distance2): \n",
    "    z1 = distance_to_z(distance1)\n",
    "    z2 = distance_to_z(distance2)\n",
    "    indices = np.where(np.logical_and(redshift>=z1, redshift<=z2))\n",
    "    return len(indices[0]) \n",
    "dist1 = 200\n",
    "dist2 = 210\n",
    "print(f\"Number of Galaxies observed by MaNGA between {dist1} Mpc and {dist2} Mpc is {count_galaxies(200,210)}\")\n"
   ]
  },
  {
   "cell_type": "code",
   "execution_count": 21,
   "id": "9e0a51a9",
   "metadata": {},
   "outputs": [
    {
     "name": "stdout",
     "output_type": "stream",
     "text": [
      "The distance between Galaxies 1000 and 2000 is 169.9829610909196 Mpc\n"
     ]
    }
   ],
   "source": [
    "def cosine_law(side1, side2, cosine_value):\n",
    "    return (side1**2 + side2**2 - 2*side1*side2*cosine_value)**0.5\n",
    "\n",
    "def cosine_angular_separation(coordinate1, coordinate2): #angular separation between 2 galaxies, given their ra, dec values\n",
    "    ra1 = coordinate1[0]*np.pi/180\n",
    "    dec1 = coordinate1[1]*np.pi/180\n",
    "    ra2 = coordinate2[0]*np.pi/180\n",
    "    dec2 = coordinate2[1]*np.pi/180\n",
    "    cosine_value = np.sin(dec1)*np.sin(dec2) + np.cos(dec1)*np.cos(dec2)*np.cos(ra1-ra2)\n",
    "    return cosine_value\n",
    "\n",
    "def get_coordinates(num): #get ra and dec of a galaxy, given its serialnum\n",
    "    return objra[np.where(serialno == num)], objdec[np.where(serialno == num)]\n",
    "\n",
    "def get_separation(num1, num2): #get distance between two galaxies, given their serial numbers\n",
    "    coordinate1 = (get_coordinates(num1)[0][0], get_coordinates(num1)[1][0])\n",
    "    coordinate2 = (get_coordinates(num2)[0][0], get_coordinates(num2)[1][0])\n",
    "    cosine_value = cosine_angular_separation(coordinate1, coordinate2)\n",
    "    side1 = get_distance(num1)\n",
    "    side2 = get_distance(num2)\n",
    "    separation = cosine_law(side1, side2, cosine_value)\n",
    "    return separation\n",
    "\n",
    "serial1, serial2 = 1000, 2000\n",
    "print(f\"The distance between Galaxies {serial1} and {serial2} is {get_separation(serial1, serial2)} Mpc\") "
   ]
  },
  {
   "cell_type": "code",
   "execution_count": null,
   "id": "7c7dc46b",
   "metadata": {},
   "outputs": [],
   "source": []
  }
 ],
 "metadata": {
  "kernelspec": {
   "display_name": "Python 3 (ipykernel)",
   "language": "python",
   "name": "python3"
  },
  "language_info": {
   "codemirror_mode": {
    "name": "ipython",
    "version": 3
   },
   "file_extension": ".py",
   "mimetype": "text/x-python",
   "name": "python",
   "nbconvert_exporter": "python",
   "pygments_lexer": "ipython3",
   "version": "3.9.13"
  }
 },
 "nbformat": 4,
 "nbformat_minor": 5
}
